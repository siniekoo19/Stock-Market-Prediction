{
 "cells": [
  {
   "cell_type": "markdown",
   "metadata": {},
   "source": [
    "## Libraries to Install"
   ]
  },
  {
   "cell_type": "code",
   "execution_count": 109,
   "metadata": {
    "execution": {
     "iopub.execute_input": "2024-07-17T05:15:11.837129Z",
     "iopub.status.busy": "2024-07-17T05:15:11.835987Z",
     "iopub.status.idle": "2024-07-17T05:15:11.841395Z",
     "shell.execute_reply": "2024-07-17T05:15:11.840237Z",
     "shell.execute_reply.started": "2024-07-17T05:15:11.837086Z"
    }
   },
   "outputs": [],
   "source": [
    "# !pip install yfinance\n",
    "# !pip install pmdarima\n",
    "# !pip install statsmodels"
   ]
  },
  {
   "cell_type": "markdown",
   "metadata": {},
   "source": [
    "## Import Libraries"
   ]
  },
  {
   "cell_type": "code",
   "execution_count": 55,
   "metadata": {},
   "outputs": [],
   "source": [
    "import numpy as np\n",
    "import pandas as pd\n",
    "import numpy as np\n",
    "import pandas as pd\n",
    "import matplotlib.pyplot as plt\n",
    "%matplotlib inline\n",
    "plt.rc(\"figure\", figsize=(20,5))\n",
    "import seaborn as sns\n",
    "import tensorflow as tf\n",
    "from tensorflow.keras.models import Sequential\n",
    "from tensorflow.keras.layers import Dense, LSTM\n",
    "\n",
    "from datetime import datetime\n",
    "\n",
    "# To import the dataset\n",
    "import yfinance as yf\n",
    "\n",
    "# To suppress all warnings\n",
    "import warnings\n",
    "warnings.filterwarnings(\"ignore\")"
   ]
  },
  {
   "cell_type": "markdown",
   "metadata": {},
   "source": [
    "## Import Dataset"
   ]
  },
  {
   "cell_type": "code",
   "execution_count": 4,
   "metadata": {
    "execution": {
     "iopub.execute_input": "2024-07-17T04:14:04.283485Z",
     "iopub.status.busy": "2024-07-17T04:14:04.283103Z",
     "iopub.status.idle": "2024-07-17T04:14:04.724068Z",
     "shell.execute_reply": "2024-07-17T04:14:04.723092Z",
     "shell.execute_reply.started": "2024-07-17T04:14:04.283454Z"
    }
   },
   "outputs": [
    {
     "name": "stderr",
     "output_type": "stream",
     "text": [
      "[*********************100%%**********************]  1 of 1 completed\n"
     ]
    }
   ],
   "source": [
    "stock_name = 'AMZN' # Amazon dataset from Yahoo-Finance\n",
    "\n",
    "end = datetime.now()\n",
    "start = datetime(end.year - 1, end.month, end.day) \n",
    "\n",
    "stock = yf.download(stock_name, start, end) # Data of past 1 Year"
   ]
  },
  {
   "cell_type": "code",
   "execution_count": 5,
   "metadata": {
    "execution": {
     "iopub.execute_input": "2024-07-17T04:14:06.208950Z",
     "iopub.status.busy": "2024-07-17T04:14:06.207932Z",
     "iopub.status.idle": "2024-07-17T04:14:06.227515Z",
     "shell.execute_reply": "2024-07-17T04:14:06.226466Z",
     "shell.execute_reply.started": "2024-07-17T04:14:06.208916Z"
    }
   },
   "outputs": [
    {
     "data": {
      "text/html": [
       "<div>\n",
       "<style scoped>\n",
       "    .dataframe tbody tr th:only-of-type {\n",
       "        vertical-align: middle;\n",
       "    }\n",
       "\n",
       "    .dataframe tbody tr th {\n",
       "        vertical-align: top;\n",
       "    }\n",
       "\n",
       "    .dataframe thead th {\n",
       "        text-align: right;\n",
       "    }\n",
       "</style>\n",
       "<table border=\"1\" class=\"dataframe\">\n",
       "  <thead>\n",
       "    <tr style=\"text-align: right;\">\n",
       "      <th></th>\n",
       "      <th>Open</th>\n",
       "      <th>High</th>\n",
       "      <th>Low</th>\n",
       "      <th>Close</th>\n",
       "      <th>Adj Close</th>\n",
       "      <th>Volume</th>\n",
       "    </tr>\n",
       "    <tr>\n",
       "      <th>Date</th>\n",
       "      <th></th>\n",
       "      <th></th>\n",
       "      <th></th>\n",
       "      <th></th>\n",
       "      <th></th>\n",
       "      <th></th>\n",
       "    </tr>\n",
       "  </thead>\n",
       "  <tbody>\n",
       "    <tr>\n",
       "      <th>2023-07-17</th>\n",
       "      <td>134.559998</td>\n",
       "      <td>135.619995</td>\n",
       "      <td>133.210007</td>\n",
       "      <td>133.559998</td>\n",
       "      <td>133.559998</td>\n",
       "      <td>48450200</td>\n",
       "    </tr>\n",
       "    <tr>\n",
       "      <th>2023-07-18</th>\n",
       "      <td>132.710007</td>\n",
       "      <td>133.860001</td>\n",
       "      <td>131.350006</td>\n",
       "      <td>132.830002</td>\n",
       "      <td>132.830002</td>\n",
       "      <td>54969100</td>\n",
       "    </tr>\n",
       "    <tr>\n",
       "      <th>2023-07-19</th>\n",
       "      <td>133.389999</td>\n",
       "      <td>135.990005</td>\n",
       "      <td>132.529999</td>\n",
       "      <td>135.360001</td>\n",
       "      <td>135.360001</td>\n",
       "      <td>54531000</td>\n",
       "    </tr>\n",
       "    <tr>\n",
       "      <th>2023-07-20</th>\n",
       "      <td>134.070007</td>\n",
       "      <td>134.789993</td>\n",
       "      <td>129.330002</td>\n",
       "      <td>129.960007</td>\n",
       "      <td>129.960007</td>\n",
       "      <td>59820600</td>\n",
       "    </tr>\n",
       "    <tr>\n",
       "      <th>2023-07-21</th>\n",
       "      <td>131.339996</td>\n",
       "      <td>131.369995</td>\n",
       "      <td>128.419998</td>\n",
       "      <td>130.000000</td>\n",
       "      <td>130.000000</td>\n",
       "      <td>133265000</td>\n",
       "    </tr>\n",
       "  </tbody>\n",
       "</table>\n",
       "</div>"
      ],
      "text/plain": [
       "                  Open        High         Low       Close   Adj Close  \\\n",
       "Date                                                                     \n",
       "2023-07-17  134.559998  135.619995  133.210007  133.559998  133.559998   \n",
       "2023-07-18  132.710007  133.860001  131.350006  132.830002  132.830002   \n",
       "2023-07-19  133.389999  135.990005  132.529999  135.360001  135.360001   \n",
       "2023-07-20  134.070007  134.789993  129.330002  129.960007  129.960007   \n",
       "2023-07-21  131.339996  131.369995  128.419998  130.000000  130.000000   \n",
       "\n",
       "               Volume  \n",
       "Date                   \n",
       "2023-07-17   48450200  \n",
       "2023-07-18   54969100  \n",
       "2023-07-19   54531000  \n",
       "2023-07-20   59820600  \n",
       "2023-07-21  133265000  "
      ]
     },
     "execution_count": 5,
     "metadata": {},
     "output_type": "execute_result"
    }
   ],
   "source": [
    "stock.head()"
   ]
  },
  {
   "cell_type": "markdown",
   "metadata": {},
   "source": [
    "# LSTM Model For Stock Prediction"
   ]
  },
  {
   "cell_type": "markdown",
   "metadata": {},
   "source": [
    "## Scale the data"
   ]
  },
  {
   "cell_type": "code",
   "execution_count": 84,
   "metadata": {
    "execution": {
     "iopub.execute_input": "2024-07-17T05:07:39.796476Z",
     "iopub.status.busy": "2024-07-17T05:07:39.796098Z",
     "iopub.status.idle": "2024-07-17T05:07:39.803278Z",
     "shell.execute_reply": "2024-07-17T05:07:39.802166Z",
     "shell.execute_reply.started": "2024-07-17T05:07:39.796447Z"
    }
   },
   "outputs": [],
   "source": [
    "from sklearn.preprocessing import MinMaxScaler\n",
    "\n",
    "X = stock['Adj Close'].values\n",
    "\n",
    "sc = MinMaxScaler(feature_range=(0,1))\n",
    "scaled_data = sc.fit_transform(X.reshape(-1, 1))\n",
    "\n",
    "# scaled_data"
   ]
  },
  {
   "cell_type": "markdown",
   "metadata": {},
   "source": [
    "## Split data into train and test sets"
   ]
  },
  {
   "cell_type": "code",
   "execution_count": 85,
   "metadata": {
    "execution": {
     "iopub.execute_input": "2024-07-17T05:07:42.165308Z",
     "iopub.status.busy": "2024-07-17T05:07:42.164900Z",
     "iopub.status.idle": "2024-07-17T05:07:42.171490Z",
     "shell.execute_reply": "2024-07-17T05:07:42.170311Z",
     "shell.execute_reply.started": "2024-07-17T05:07:42.165276Z"
    }
   },
   "outputs": [],
   "source": [
    "# Create the training data set\n",
    "\n",
    "train_data = scaled_data[:n, :]\n",
    "\n",
    "# Split the data into x_train and y_train data sets\n",
    "x_train = []\n",
    "y_train = []\n",
    "\n",
    "for i in range(60, len(train_data)):\n",
    "    x_train.append(train_data[i-60:i, 0])\n",
    "    y_train.append(train_data[i, 0])"
   ]
  },
  {
   "cell_type": "code",
   "execution_count": 86,
   "metadata": {
    "execution": {
     "iopub.execute_input": "2024-07-17T05:07:43.545343Z",
     "iopub.status.busy": "2024-07-17T05:07:43.544925Z",
     "iopub.status.idle": "2024-07-17T05:07:43.549927Z",
     "shell.execute_reply": "2024-07-17T05:07:43.548770Z",
     "shell.execute_reply.started": "2024-07-17T05:07:43.545313Z"
    }
   },
   "outputs": [],
   "source": [
    "# train_df = pd.DataFrame({'x_train' : x_train, 'y_train' : y_train})\n",
    "# train_df.head()"
   ]
  },
  {
   "cell_type": "code",
   "execution_count": 87,
   "metadata": {
    "execution": {
     "iopub.execute_input": "2024-07-17T05:07:48.936056Z",
     "iopub.status.busy": "2024-07-17T05:07:48.935086Z",
     "iopub.status.idle": "2024-07-17T05:07:48.941976Z",
     "shell.execute_reply": "2024-07-17T05:07:48.940669Z",
     "shell.execute_reply.started": "2024-07-17T05:07:48.935997Z"
    }
   },
   "outputs": [],
   "source": [
    "# Convert the x_train and y_train to numpy arrays \n",
    "x_train, y_train = np.array(x_train), np.array(y_train)\n",
    "\n",
    "# Reshape the data\n",
    "x_train = x_train.reshape(x_train.shape[0], x_train.shape[1], 1)"
   ]
  },
  {
   "cell_type": "code",
   "execution_count": 88,
   "metadata": {
    "execution": {
     "iopub.execute_input": "2024-07-17T05:07:50.135232Z",
     "iopub.status.busy": "2024-07-17T05:07:50.134836Z",
     "iopub.status.idle": "2024-07-17T05:07:50.142294Z",
     "shell.execute_reply": "2024-07-17T05:07:50.141108Z",
     "shell.execute_reply.started": "2024-07-17T05:07:50.135200Z"
    }
   },
   "outputs": [],
   "source": [
    "# Create the testing data set\n",
    "\n",
    "test_data = scaled_data[n - 60: , :]\n",
    "\n",
    "# Create the data sets x_test and y_test\n",
    "x_test = []\n",
    "y_test = X.reshape(-1,1)[n:]\n",
    "\n",
    "for i in range(60, len(test_data)):\n",
    "    x_test.append(test_data[i-60:i, 0])\n",
    "    \n",
    "# Convert the data to a numpy array\n",
    "x_test = np.array(x_test)\n",
    "\n",
    "# Reshape the data\n",
    "x_test = np.reshape(x_test, (x_test.shape[0], x_test.shape[1], 1 ))"
   ]
  },
  {
   "cell_type": "code",
   "execution_count": 89,
   "metadata": {
    "execution": {
     "iopub.execute_input": "2024-07-17T05:07:52.125340Z",
     "iopub.status.busy": "2024-07-17T05:07:52.124946Z",
     "iopub.status.idle": "2024-07-17T05:07:52.131930Z",
     "shell.execute_reply": "2024-07-17T05:07:52.130723Z",
     "shell.execute_reply.started": "2024-07-17T05:07:52.125312Z"
    }
   },
   "outputs": [
    {
     "data": {
      "text/plain": [
       "51"
      ]
     },
     "execution_count": 89,
     "metadata": {},
     "output_type": "execute_result"
    }
   ],
   "source": [
    "len(y_test)"
   ]
  },
  {
   "cell_type": "markdown",
   "metadata": {},
   "source": [
    "## Model Building"
   ]
  },
  {
   "cell_type": "code",
   "execution_count": 90,
   "metadata": {
    "execution": {
     "iopub.execute_input": "2024-07-17T05:07:54.866010Z",
     "iopub.status.busy": "2024-07-17T05:07:54.865016Z",
     "iopub.status.idle": "2024-07-17T05:08:02.004402Z",
     "shell.execute_reply": "2024-07-17T05:08:02.003390Z",
     "shell.execute_reply.started": "2024-07-17T05:07:54.865947Z"
    }
   },
   "outputs": [
    {
     "name": "stdout",
     "output_type": "stream",
     "text": [
      "\u001b[1m141/141\u001b[0m \u001b[32m━━━━━━━━━━━━━━━━━━━━\u001b[0m\u001b[37m\u001b[0m \u001b[1m7s\u001b[0m 30ms/step - loss: 0.0300\n"
     ]
    },
    {
     "data": {
      "text/plain": [
       "<keras.src.callbacks.history.History at 0x78b2712fb250>"
      ]
     },
     "execution_count": 90,
     "metadata": {},
     "output_type": "execute_result"
    }
   ],
   "source": [
    "# Build the LSTM model\n",
    "model = Sequential()\n",
    "model.add(LSTM(128, return_sequences=True, input_shape= (x_train.shape[1], 1)))\n",
    "model.add(LSTM(64, return_sequences=False))\n",
    "model.add(Dense(25))\n",
    "model.add(Dense(1))\n",
    "\n",
    "# Compile the model\n",
    "model.compile(optimizer='adam', loss='mean_squared_error')\n",
    "\n",
    "# Train the model\n",
    "model.fit(x_train, y_train, batch_size=1, epochs=1)"
   ]
  },
  {
   "cell_type": "code",
   "execution_count": 91,
   "metadata": {
    "execution": {
     "iopub.execute_input": "2024-07-17T05:08:05.206132Z",
     "iopub.status.busy": "2024-07-17T05:08:05.204949Z",
     "iopub.status.idle": "2024-07-17T05:08:05.887383Z",
     "shell.execute_reply": "2024-07-17T05:08:05.886228Z",
     "shell.execute_reply.started": "2024-07-17T05:08:05.206025Z"
    }
   },
   "outputs": [
    {
     "name": "stdout",
     "output_type": "stream",
     "text": [
      "\u001b[1m2/2\u001b[0m \u001b[32m━━━━━━━━━━━━━━━━━━━━\u001b[0m\u001b[37m\u001b[0m \u001b[1m1s\u001b[0m 303ms/step\n"
     ]
    }
   ],
   "source": [
    "# Get the models predicted price values \n",
    "y_pred = model.predict(x_test)\n",
    "y_pred = sc.inverse_transform(y_pred)"
   ]
  },
  {
   "cell_type": "code",
   "execution_count": 107,
   "metadata": {
    "execution": {
     "iopub.execute_input": "2024-07-17T05:14:25.356816Z",
     "iopub.status.busy": "2024-07-17T05:14:25.355827Z",
     "iopub.status.idle": "2024-07-17T05:14:25.684442Z",
     "shell.execute_reply": "2024-07-17T05:14:25.683308Z",
     "shell.execute_reply.started": "2024-07-17T05:14:25.356774Z"
    }
   },
   "outputs": [
    {
     "data": {
      "image/png": "[encoded data removed]",
      "text/plain": [
       "<Figure size 2000x500 with 1 Axes>"
      ]
     },
     "metadata": {},
     "output_type": "display_data"
    }
   ],
   "source": [
    "df_adj_Close = stock[['Adj Close']]\n",
    "\n",
    "plt.plot(df_adj_Close.iloc[n:,:].index, y_test, label='Real')\n",
    "plt.plot(df_adj_Close.iloc[n:,:].index, y_pred, color='red', label='Predicted')\n",
    "plt.title('ARIMA Predictions vs Actual Values')\n",
    "plt.xlabel('Date')\n",
    "plt.ylabel('Stock Price')\n",
    "plt.legend()\n",
    "plt.show()"
   ]
  },
  {
   "cell_type": "code",
   "execution_count": 108,
   "metadata": {
    "execution": {
     "iopub.execute_input": "2024-07-17T05:15:00.246609Z",
     "iopub.status.busy": "2024-07-17T05:15:00.245872Z",
     "iopub.status.idle": "2024-07-17T05:15:00.256123Z",
     "shell.execute_reply": "2024-07-17T05:15:00.254868Z",
     "shell.execute_reply.started": "2024-07-17T05:15:00.246571Z"
    }
   },
   "outputs": [
    {
     "name": "stdout",
     "output_type": "stream",
     "text": [
      "MSE: 36.43434791972258\n",
      "MAE: 4.7566495409198835\n",
      "RMSE: 6.036087136525\n",
      "MAPE: 0.024916075487104363\n"
     ]
    }
   ],
   "source": [
    "from sklearn.metrics import mean_squared_error, mean_absolute_error\n",
    "import math\n",
    "\n",
    "mse = mean_squared_error(y_test, y_pred)\n",
    "print('MSE: '+str(mse))\n",
    "mae = mean_absolute_error(y_test, y_pred)\n",
    "print('MAE: '+str(mae))\n",
    "rmse = math.sqrt(mean_squared_error(y_test, y_pred))\n",
    "print('RMSE: '+str(rmse))\n",
    "mape = np.mean(np.abs(y_pred - y_test)/np.abs(y_test))\n",
    "print('MAPE: '+str(mape))"
   ]
  },
  {
   "cell_type": "code",
   "execution_count": null,
   "metadata": {},
   "outputs": [],
   "source": []
  }
 ],
 "metadata": {
  "kaggle": {
   "accelerator": "none",
   "dataSources": [],
   "dockerImageVersionId": 30746,
   "isGpuEnabled": false,
   "isInternetEnabled": true,
   "language": "python",
   "sourceType": "notebook"
  },
  "kernelspec": {
   "display_name": "Python 3 (ipykernel)",
   "language": "python",
   "name": "python3"
  },
  "language_info": {
   "codemirror_mode": {
    "name": "ipython",
    "version": 3
   },
   "file_extension": ".py",
   "mimetype": "text/x-python",
   "name": "python",
   "nbconvert_exporter": "python",
   "pygments_lexer": "ipython3",
   "version": "3.9.12"
  }
 },
 "nbformat": 4,
 "nbformat_minor": 4
}
